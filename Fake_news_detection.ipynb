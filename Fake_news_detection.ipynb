{
 "cells": [
  {
   "cell_type": "markdown",
   "metadata": {
    "id": "H6BpZ_f-Aint"
   },
   "source": [
    "1> **Import necessary libraries:** The code begins by importing the necessary libraries. pandas is used for data manipulation, sklearn for machine learning tasks, matplotlib and seaborn for data visualization, and numpy for numerical operations.\n",
    "\n",
    "2>**Load the datasets:** The code reads two CSV files containing fake and real news articles.\n",
    "\n",
    "3>**Assign labels:** The code assigns labels to the articles: ‘1’ for fake news and ‘0’ for real news.\n",
    "\n",
    "4>**Drop unnecessary columns:** The code drops the ‘title’, ‘subject’, and ‘date’ columns from the datasets as they are not needed for the classification task.\n",
    "\n",
    "5>**Merge and shuffle the dataframes:** The datasets are merged into one and shuffled to ensure a good mix of fake and real news articles.\n",
    "\n",
    "6>**Preprocess the text:** The text is preprocessed by converting it to lowercase and replacing non-word characters with spaces.\n",
    "\n",
    "7>**Split the data into training and testing sets:** The data is split into a training set and a testing set. 80% of the data is used for training the model and the remaining 20% is used for testing the model’s performance.\n",
    "\n",
    "8>**Vectorize the text data:** The text data is converted into numerical data using the TF-IDF vectorizer. This is necessary because machine learning models cannot work with raw text data.\n",
    "\n",
    "9>**Train a Logistic Regression model:** A Logistic Regression model is trained on the training data. This model will learn to classify news articles as fake or real based on the features extracted from the text.\n",
    "\n",
    "10>**Make predictions:** The trained model is used to make predictions on the testing data.\n",
    "\n",
    "11>**Print the accuracy and classification report:** The accuracy of the model is calculated and a classification report is printed. The classification report includes precision, recall, and F1-score for each class.\n",
    "\n",
    "12>**Compute ROC curve and ROC area for each class:** The Receiver Operating Characteristic (ROC) curve and the area under the ROC curve (AUC) are computed. These metrics provide a comprehensive view of the model’s performance across all possible classification thresholds.\n",
    "\n",
    "13>**Plot ROC curve:** The ROC curve is plotted. The curve shows the true positive rate (sensitivity) against the false positive rate (1 - specificity) for different possible thresholds of a classifier.\n",
    "\n",
    "14>**Compute precision, recall, F1-score and support:** The precision, recall, F1-score, and support for each class are computed. These metrics provide a detailed view of the model’s performance.\n",
    "\n",
    "15>**Plot bar graph for precision, recall, F1-score:** A bar graph is plotted showing the precision, recall, and F1-score for each class. This graph provides a visual comparison of the model’s performance on the two classes.\n",
    "\n",
    "16>**Function to predict if a news article is fake or not:** A function is defined that takes a news article as input, preprocesses and vectorizes the text, makes a prediction using the trained model, and then returns whether the news article is predicted to be fake or real.\n",
    "\n",
    "17>**Test the function:** The function is tested by passing a news article to it. The function prints either “Fake” or “Real” depending on the prediction of the model."
   ]
  },
  {
   "cell_type": "code",
   "execution_count": 1,
   "metadata": {
    "id": "NeL9o18VW2mw"
   },
   "outputs": [],
   "source": [
    "#Importing Important Libraries And Function that will be used in entire project\n",
    "import pandas as pd\n",
    "from sklearn.model_selection import train_test_split\n",
    "from sklearn.feature_extraction.text import TfidfVectorizer\n",
    "from sklearn.linear_model import LogisticRegression\n",
    "from sklearn.tree import DecisionTreeClassifier\n",
    "from sklearn.ensemble import RandomForestClassifier\n",
    "from sklearn.naive_bayes import MultinomialNB\n",
    "from sklearn.svm import LinearSVC\n",
    "from sklearn.metrics import accuracy_score, classification_report, roc_curve, auc, precision_recall_fscore_support,precision_score, recall_score, f1_score\n",
    "import matplotlib.pyplot as plt\n",
    "import seaborn as sns\n",
    "import numpy as np\n",
    "from IPython.display import display, HTML"
   ]
  },
  {
   "cell_type": "code",
   "execution_count": 2,
   "metadata": {
    "id": "OSj7q7hKW2mw"
   },
   "outputs": [],
   "source": [
    "# Load the datasets\n",
    "df1 = pd.read_csv(\"Fake.csv\")\n",
    "df2 = pd.read_csv(\"True.csv\")"
   ]
  },
  {
   "cell_type": "code",
   "execution_count": 3,
   "metadata": {
    "colab": {
     "base_uri": "https://localhost:8080/"
    },
    "id": "RBVA1jacW2mw",
    "outputId": "63522163-c816-4e48-c095-95267349d245"
   },
   "outputs": [
    {
     "name": "stdout",
     "output_type": "stream",
     "text": [
      "(23481, 4)\n",
      "(21417, 4)\n"
     ]
    }
   ],
   "source": [
    "#Determining Rows and Coloumns of Fake.csv and True.csv\n",
    "print(df1.shape)\n",
    "print(df2.shape)"
   ]
  },
  {
   "cell_type": "code",
   "execution_count": 4,
   "metadata": {
    "id": "IhObUPCSW2mx"
   },
   "outputs": [],
   "source": [
    "# Assign labels Fake:- 1 & True :- 0\n",
    "df1[\"response\"] = 1\n",
    "df2[\"response\"] = 0"
   ]
  },
  {
   "cell_type": "code",
   "execution_count": 5,
   "metadata": {
    "colab": {
     "base_uri": "https://localhost:8080/",
     "height": 537
    },
    "id": "Mi5bQetaW2mx",
    "outputId": "821bbe61-b3a1-487a-8526-7565df088747"
   },
   "outputs": [
    {
     "data": {
      "text/html": [
       "<div>\n",
       "<style scoped>\n",
       "    .dataframe tbody tr th:only-of-type {\n",
       "        vertical-align: middle;\n",
       "    }\n",
       "\n",
       "    .dataframe tbody tr th {\n",
       "        vertical-align: top;\n",
       "    }\n",
       "\n",
       "    .dataframe thead th {\n",
       "        text-align: right;\n",
       "    }\n",
       "</style>\n",
       "<table border=\"1\" class=\"dataframe\">\n",
       "  <thead>\n",
       "    <tr style=\"text-align: right;\">\n",
       "      <th></th>\n",
       "      <th>title</th>\n",
       "      <th>text</th>\n",
       "      <th>subject</th>\n",
       "      <th>date</th>\n",
       "      <th>response</th>\n",
       "    </tr>\n",
       "  </thead>\n",
       "  <tbody>\n",
       "    <tr>\n",
       "      <th>0</th>\n",
       "      <td>Donald Trump Sends Out Embarrassing New Year’...</td>\n",
       "      <td>Donald Trump just couldn t wish all Americans ...</td>\n",
       "      <td>News</td>\n",
       "      <td>December 31, 2017</td>\n",
       "      <td>1</td>\n",
       "    </tr>\n",
       "    <tr>\n",
       "      <th>1</th>\n",
       "      <td>Drunk Bragging Trump Staffer Started Russian ...</td>\n",
       "      <td>House Intelligence Committee Chairman Devin Nu...</td>\n",
       "      <td>News</td>\n",
       "      <td>December 31, 2017</td>\n",
       "      <td>1</td>\n",
       "    </tr>\n",
       "    <tr>\n",
       "      <th>2</th>\n",
       "      <td>Sheriff David Clarke Becomes An Internet Joke...</td>\n",
       "      <td>On Friday, it was revealed that former Milwauk...</td>\n",
       "      <td>News</td>\n",
       "      <td>December 30, 2017</td>\n",
       "      <td>1</td>\n",
       "    </tr>\n",
       "    <tr>\n",
       "      <th>3</th>\n",
       "      <td>Trump Is So Obsessed He Even Has Obama’s Name...</td>\n",
       "      <td>On Christmas day, Donald Trump announced that ...</td>\n",
       "      <td>News</td>\n",
       "      <td>December 29, 2017</td>\n",
       "      <td>1</td>\n",
       "    </tr>\n",
       "    <tr>\n",
       "      <th>4</th>\n",
       "      <td>Pope Francis Just Called Out Donald Trump Dur...</td>\n",
       "      <td>Pope Francis used his annual Christmas Day mes...</td>\n",
       "      <td>News</td>\n",
       "      <td>December 25, 2017</td>\n",
       "      <td>1</td>\n",
       "    </tr>\n",
       "    <tr>\n",
       "      <th>5</th>\n",
       "      <td>Racist Alabama Cops Brutalize Black Boy While...</td>\n",
       "      <td>The number of cases of cops brutalizing and ki...</td>\n",
       "      <td>News</td>\n",
       "      <td>December 25, 2017</td>\n",
       "      <td>1</td>\n",
       "    </tr>\n",
       "    <tr>\n",
       "      <th>6</th>\n",
       "      <td>Fresh Off The Golf Course, Trump Lashes Out A...</td>\n",
       "      <td>Donald Trump spent a good portion of his day a...</td>\n",
       "      <td>News</td>\n",
       "      <td>December 23, 2017</td>\n",
       "      <td>1</td>\n",
       "    </tr>\n",
       "    <tr>\n",
       "      <th>7</th>\n",
       "      <td>Trump Said Some INSANELY Racist Stuff Inside ...</td>\n",
       "      <td>In the wake of yet another court decision that...</td>\n",
       "      <td>News</td>\n",
       "      <td>December 23, 2017</td>\n",
       "      <td>1</td>\n",
       "    </tr>\n",
       "    <tr>\n",
       "      <th>8</th>\n",
       "      <td>Former CIA Director Slams Trump Over UN Bully...</td>\n",
       "      <td>Many people have raised the alarm regarding th...</td>\n",
       "      <td>News</td>\n",
       "      <td>December 22, 2017</td>\n",
       "      <td>1</td>\n",
       "    </tr>\n",
       "    <tr>\n",
       "      <th>9</th>\n",
       "      <td>WATCH: Brand-New Pro-Trump Ad Features So Muc...</td>\n",
       "      <td>Just when you might have thought we d get a br...</td>\n",
       "      <td>News</td>\n",
       "      <td>December 21, 2017</td>\n",
       "      <td>1</td>\n",
       "    </tr>\n",
       "  </tbody>\n",
       "</table>\n",
       "</div>"
      ],
      "text/plain": [
       "                                               title  \\\n",
       "0   Donald Trump Sends Out Embarrassing New Year’...   \n",
       "1   Drunk Bragging Trump Staffer Started Russian ...   \n",
       "2   Sheriff David Clarke Becomes An Internet Joke...   \n",
       "3   Trump Is So Obsessed He Even Has Obama’s Name...   \n",
       "4   Pope Francis Just Called Out Donald Trump Dur...   \n",
       "5   Racist Alabama Cops Brutalize Black Boy While...   \n",
       "6   Fresh Off The Golf Course, Trump Lashes Out A...   \n",
       "7   Trump Said Some INSANELY Racist Stuff Inside ...   \n",
       "8   Former CIA Director Slams Trump Over UN Bully...   \n",
       "9   WATCH: Brand-New Pro-Trump Ad Features So Muc...   \n",
       "\n",
       "                                                text subject  \\\n",
       "0  Donald Trump just couldn t wish all Americans ...    News   \n",
       "1  House Intelligence Committee Chairman Devin Nu...    News   \n",
       "2  On Friday, it was revealed that former Milwauk...    News   \n",
       "3  On Christmas day, Donald Trump announced that ...    News   \n",
       "4  Pope Francis used his annual Christmas Day mes...    News   \n",
       "5  The number of cases of cops brutalizing and ki...    News   \n",
       "6  Donald Trump spent a good portion of his day a...    News   \n",
       "7  In the wake of yet another court decision that...    News   \n",
       "8  Many people have raised the alarm regarding th...    News   \n",
       "9  Just when you might have thought we d get a br...    News   \n",
       "\n",
       "                date  response  \n",
       "0  December 31, 2017         1  \n",
       "1  December 31, 2017         1  \n",
       "2  December 30, 2017         1  \n",
       "3  December 29, 2017         1  \n",
       "4  December 25, 2017         1  \n",
       "5  December 25, 2017         1  \n",
       "6  December 23, 2017         1  \n",
       "7  December 23, 2017         1  \n",
       "8  December 22, 2017         1  \n",
       "9  December 21, 2017         1  "
      ]
     },
     "execution_count": 5,
     "metadata": {},
     "output_type": "execute_result"
    }
   ],
   "source": [
    "#Displaying Top 10 Data stored in Fake.csv File\n",
    "df1.head(10)"
   ]
  },
  {
   "cell_type": "code",
   "execution_count": 6,
   "metadata": {
    "colab": {
     "base_uri": "https://localhost:8080/",
     "height": 537
    },
    "id": "eXWWB8DPW2mx",
    "outputId": "0a6911fe-6a3f-47cb-d1e7-1731296bd746"
   },
   "outputs": [
    {
     "data": {
      "text/html": [
       "<div>\n",
       "<style scoped>\n",
       "    .dataframe tbody tr th:only-of-type {\n",
       "        vertical-align: middle;\n",
       "    }\n",
       "\n",
       "    .dataframe tbody tr th {\n",
       "        vertical-align: top;\n",
       "    }\n",
       "\n",
       "    .dataframe thead th {\n",
       "        text-align: right;\n",
       "    }\n",
       "</style>\n",
       "<table border=\"1\" class=\"dataframe\">\n",
       "  <thead>\n",
       "    <tr style=\"text-align: right;\">\n",
       "      <th></th>\n",
       "      <th>title</th>\n",
       "      <th>text</th>\n",
       "      <th>subject</th>\n",
       "      <th>date</th>\n",
       "      <th>response</th>\n",
       "    </tr>\n",
       "  </thead>\n",
       "  <tbody>\n",
       "    <tr>\n",
       "      <th>0</th>\n",
       "      <td>As U.S. budget fight looms, Republicans flip t...</td>\n",
       "      <td>WASHINGTON (Reuters) - The head of a conservat...</td>\n",
       "      <td>politicsNews</td>\n",
       "      <td>December 31, 2017</td>\n",
       "      <td>0</td>\n",
       "    </tr>\n",
       "    <tr>\n",
       "      <th>1</th>\n",
       "      <td>U.S. military to accept transgender recruits o...</td>\n",
       "      <td>WASHINGTON (Reuters) - Transgender people will...</td>\n",
       "      <td>politicsNews</td>\n",
       "      <td>December 29, 2017</td>\n",
       "      <td>0</td>\n",
       "    </tr>\n",
       "    <tr>\n",
       "      <th>2</th>\n",
       "      <td>Senior U.S. Republican senator: 'Let Mr. Muell...</td>\n",
       "      <td>WASHINGTON (Reuters) - The special counsel inv...</td>\n",
       "      <td>politicsNews</td>\n",
       "      <td>December 31, 2017</td>\n",
       "      <td>0</td>\n",
       "    </tr>\n",
       "    <tr>\n",
       "      <th>3</th>\n",
       "      <td>FBI Russia probe helped by Australian diplomat...</td>\n",
       "      <td>WASHINGTON (Reuters) - Trump campaign adviser ...</td>\n",
       "      <td>politicsNews</td>\n",
       "      <td>December 30, 2017</td>\n",
       "      <td>0</td>\n",
       "    </tr>\n",
       "    <tr>\n",
       "      <th>4</th>\n",
       "      <td>Trump wants Postal Service to charge 'much mor...</td>\n",
       "      <td>SEATTLE/WASHINGTON (Reuters) - President Donal...</td>\n",
       "      <td>politicsNews</td>\n",
       "      <td>December 29, 2017</td>\n",
       "      <td>0</td>\n",
       "    </tr>\n",
       "    <tr>\n",
       "      <th>5</th>\n",
       "      <td>White House, Congress prepare for talks on spe...</td>\n",
       "      <td>WEST PALM BEACH, Fla./WASHINGTON (Reuters) - T...</td>\n",
       "      <td>politicsNews</td>\n",
       "      <td>December 29, 2017</td>\n",
       "      <td>0</td>\n",
       "    </tr>\n",
       "    <tr>\n",
       "      <th>6</th>\n",
       "      <td>Trump says Russia probe will be fair, but time...</td>\n",
       "      <td>WEST PALM BEACH, Fla (Reuters) - President Don...</td>\n",
       "      <td>politicsNews</td>\n",
       "      <td>December 29, 2017</td>\n",
       "      <td>0</td>\n",
       "    </tr>\n",
       "    <tr>\n",
       "      <th>7</th>\n",
       "      <td>Factbox: Trump on Twitter (Dec 29) - Approval ...</td>\n",
       "      <td>The following statements were posted to the ve...</td>\n",
       "      <td>politicsNews</td>\n",
       "      <td>December 29, 2017</td>\n",
       "      <td>0</td>\n",
       "    </tr>\n",
       "    <tr>\n",
       "      <th>8</th>\n",
       "      <td>Trump on Twitter (Dec 28) - Global Warming</td>\n",
       "      <td>The following statements were posted to the ve...</td>\n",
       "      <td>politicsNews</td>\n",
       "      <td>December 29, 2017</td>\n",
       "      <td>0</td>\n",
       "    </tr>\n",
       "    <tr>\n",
       "      <th>9</th>\n",
       "      <td>Alabama official to certify Senator-elect Jone...</td>\n",
       "      <td>WASHINGTON (Reuters) - Alabama Secretary of St...</td>\n",
       "      <td>politicsNews</td>\n",
       "      <td>December 28, 2017</td>\n",
       "      <td>0</td>\n",
       "    </tr>\n",
       "  </tbody>\n",
       "</table>\n",
       "</div>"
      ],
      "text/plain": [
       "                                               title  \\\n",
       "0  As U.S. budget fight looms, Republicans flip t...   \n",
       "1  U.S. military to accept transgender recruits o...   \n",
       "2  Senior U.S. Republican senator: 'Let Mr. Muell...   \n",
       "3  FBI Russia probe helped by Australian diplomat...   \n",
       "4  Trump wants Postal Service to charge 'much mor...   \n",
       "5  White House, Congress prepare for talks on spe...   \n",
       "6  Trump says Russia probe will be fair, but time...   \n",
       "7  Factbox: Trump on Twitter (Dec 29) - Approval ...   \n",
       "8         Trump on Twitter (Dec 28) - Global Warming   \n",
       "9  Alabama official to certify Senator-elect Jone...   \n",
       "\n",
       "                                                text       subject  \\\n",
       "0  WASHINGTON (Reuters) - The head of a conservat...  politicsNews   \n",
       "1  WASHINGTON (Reuters) - Transgender people will...  politicsNews   \n",
       "2  WASHINGTON (Reuters) - The special counsel inv...  politicsNews   \n",
       "3  WASHINGTON (Reuters) - Trump campaign adviser ...  politicsNews   \n",
       "4  SEATTLE/WASHINGTON (Reuters) - President Donal...  politicsNews   \n",
       "5  WEST PALM BEACH, Fla./WASHINGTON (Reuters) - T...  politicsNews   \n",
       "6  WEST PALM BEACH, Fla (Reuters) - President Don...  politicsNews   \n",
       "7  The following statements were posted to the ve...  politicsNews   \n",
       "8  The following statements were posted to the ve...  politicsNews   \n",
       "9  WASHINGTON (Reuters) - Alabama Secretary of St...  politicsNews   \n",
       "\n",
       "                 date  response  \n",
       "0  December 31, 2017          0  \n",
       "1  December 29, 2017          0  \n",
       "2  December 31, 2017          0  \n",
       "3  December 30, 2017          0  \n",
       "4  December 29, 2017          0  \n",
       "5  December 29, 2017          0  \n",
       "6  December 29, 2017          0  \n",
       "7  December 29, 2017          0  \n",
       "8  December 29, 2017          0  \n",
       "9  December 28, 2017          0  "
      ]
     },
     "execution_count": 6,
     "metadata": {},
     "output_type": "execute_result"
    }
   ],
   "source": [
    "#Displaying Top 10 Data stored in True.csv File\n",
    "df2.head(10)"
   ]
  },
  {
   "cell_type": "code",
   "execution_count": 7,
   "metadata": {
    "id": "zEOVDtwZW2mx"
   },
   "outputs": [],
   "source": [
    "# Drop unnecessary columns\n",
    "df1 = df1.drop([\"title\",\"subject\",\"date\"], axis=1)\n",
    "df2 = df2.drop([\"title\",\"subject\",\"date\"], axis=1)"
   ]
  },
  {
   "cell_type": "code",
   "execution_count": 8,
   "metadata": {
    "colab": {
     "base_uri": "https://localhost:8080/",
     "height": 381
    },
    "id": "F8o0D-NNW2mx",
    "outputId": "8f602fae-1ff9-4f2c-9958-cf8f646a5377"
   },
   "outputs": [
    {
     "name": "stdout",
     "output_type": "stream",
     "text": [
      "(44898, 2)\n"
     ]
    },
    {
     "data": {
      "text/html": [
       "<div>\n",
       "<style scoped>\n",
       "    .dataframe tbody tr th:only-of-type {\n",
       "        vertical-align: middle;\n",
       "    }\n",
       "\n",
       "    .dataframe tbody tr th {\n",
       "        vertical-align: top;\n",
       "    }\n",
       "\n",
       "    .dataframe thead th {\n",
       "        text-align: right;\n",
       "    }\n",
       "</style>\n",
       "<table border=\"1\" class=\"dataframe\">\n",
       "  <thead>\n",
       "    <tr style=\"text-align: right;\">\n",
       "      <th></th>\n",
       "      <th>text</th>\n",
       "      <th>response</th>\n",
       "    </tr>\n",
       "  </thead>\n",
       "  <tbody>\n",
       "    <tr>\n",
       "      <th>22216</th>\n",
       "      <td>21st Century Wire says Ben Stein, reputable pr...</td>\n",
       "      <td>1</td>\n",
       "    </tr>\n",
       "    <tr>\n",
       "      <th>27917</th>\n",
       "      <td>WASHINGTON (Reuters) - U.S. President Donald T...</td>\n",
       "      <td>0</td>\n",
       "    </tr>\n",
       "    <tr>\n",
       "      <th>25007</th>\n",
       "      <td>(Reuters) - Puerto Rico Governor Ricardo Rosse...</td>\n",
       "      <td>0</td>\n",
       "    </tr>\n",
       "    <tr>\n",
       "      <th>1377</th>\n",
       "      <td>On Monday, Donald Trump once again embarrassed...</td>\n",
       "      <td>1</td>\n",
       "    </tr>\n",
       "    <tr>\n",
       "      <th>32476</th>\n",
       "      <td>GLASGOW, Scotland (Reuters) - Most U.S. presid...</td>\n",
       "      <td>0</td>\n",
       "    </tr>\n",
       "    <tr>\n",
       "      <th>5766</th>\n",
       "      <td>On Wednesday, Democrats took a powerful stance...</td>\n",
       "      <td>1</td>\n",
       "    </tr>\n",
       "    <tr>\n",
       "      <th>16230</th>\n",
       "      <td>President Trump s rally in FL on Saturday was ...</td>\n",
       "      <td>1</td>\n",
       "    </tr>\n",
       "    <tr>\n",
       "      <th>20911</th>\n",
       "      <td>He s been Europe s version of the outspoken Te...</td>\n",
       "      <td>1</td>\n",
       "    </tr>\n",
       "    <tr>\n",
       "      <th>35838</th>\n",
       "      <td>WASHINGTON (Reuters) - The State Department sa...</td>\n",
       "      <td>0</td>\n",
       "    </tr>\n",
       "    <tr>\n",
       "      <th>33155</th>\n",
       "      <td>(This version of the story corrects the figur...</td>\n",
       "      <td>0</td>\n",
       "    </tr>\n",
       "  </tbody>\n",
       "</table>\n",
       "</div>"
      ],
      "text/plain": [
       "                                                    text  response\n",
       "22216  21st Century Wire says Ben Stein, reputable pr...         1\n",
       "27917  WASHINGTON (Reuters) - U.S. President Donald T...         0\n",
       "25007  (Reuters) - Puerto Rico Governor Ricardo Rosse...         0\n",
       "1377   On Monday, Donald Trump once again embarrassed...         1\n",
       "32476  GLASGOW, Scotland (Reuters) - Most U.S. presid...         0\n",
       "5766   On Wednesday, Democrats took a powerful stance...         1\n",
       "16230  President Trump s rally in FL on Saturday was ...         1\n",
       "20911  He s been Europe s version of the outspoken Te...         1\n",
       "35838  WASHINGTON (Reuters) - The State Department sa...         0\n",
       "33155   (This version of the story corrects the figur...         0"
      ]
     },
     "execution_count": 8,
     "metadata": {},
     "output_type": "execute_result"
    }
   ],
   "source": [
    "# Merge and shuffle the dataframes\n",
    "df = pd.concat([df1, df2], ignore_index=True).sample(frac=1, random_state=42)\n",
    "print(df.shape)\n",
    "df.head(10)"
   ]
  },
  {
   "cell_type": "code",
   "execution_count": 9,
   "metadata": {
    "id": "t7QudcpBW2mx"
   },
   "outputs": [],
   "source": [
    "# Preprocess the text by converting into lower case and replaces all non-word characters with a space.\n",
    "df[\"text\"] = df[\"text\"].str.lower().str.replace('\\W', ' ', regex=True)"
   ]
  },
  {
   "cell_type": "code",
   "execution_count": 10,
   "metadata": {
    "id": "Anu05w2-W2mx"
   },
   "outputs": [],
   "source": [
    "# Split the data into training and testing sets\n",
    "x_train, x_test, y_train, y_test = train_test_split(df[\"text\"], df[\"response\"], test_size=0.2, random_state=42)\n",
    "\n",
    "# Vectorize the text data\n",
    "vectorizer = TfidfVectorizer()\n",
    "x_train = vectorizer.fit_transform(x_train)\n",
    "x_test = vectorizer.transform(x_test)"
   ]
  },
  {
   "cell_type": "code",
   "execution_count": 11,
   "metadata": {
    "colab": {
     "base_uri": "https://localhost:8080/",
     "height": 269
    },
    "id": "mvk2EuvS9xWI",
    "outputId": "b6f6582b-4a77-414e-e94d-d46a99a6c22d"
   },
   "outputs": [
    {
     "data": {
      "text/html": [
       "<table border=\"1\" class=\"dataframe\">\n",
       "  <thead>\n",
       "    <tr style=\"text-align: right;\">\n",
       "      <th style=\"font-weight: bold; text-decoration: underline; text-align: left;\"></th>\n",
       "      <th style=\"font-weight: bold; text-decoration: underline; text-align: left;\">Metric</th>\n",
       "      <th style=\"font-weight: bold; text-decoration: underline; text-align: left;\">Value</th>\n",
       "    </tr>\n",
       "  </thead>\n",
       "  <tbody>\n",
       "    <tr>\n",
       "      <th style=\"font-weight: bold; text-decoration: underline; text-align: left;\">0</th>\n",
       "      <td style=\"text-align: left;\">Accuracy</td>\n",
       "      <td style=\"text-align: left;\">0.98452116</td>\n",
       "    </tr>\n",
       "    <tr>\n",
       "      <th style=\"font-weight: bold; text-decoration: underline; text-align: left;\">1</th>\n",
       "      <td style=\"text-align: left;\">Precision (Fake News)</td>\n",
       "      <td style=\"text-align: left;\">0.98783351</td>\n",
       "    </tr>\n",
       "    <tr>\n",
       "      <th style=\"font-weight: bold; text-decoration: underline; text-align: left;\">2</th>\n",
       "      <td style=\"text-align: left;\">Recall (Fake News)</td>\n",
       "      <td style=\"text-align: left;\">0.98259023</td>\n",
       "    </tr>\n",
       "    <tr>\n",
       "      <th style=\"font-weight: bold; text-decoration: underline; text-align: left;\">3</th>\n",
       "      <td style=\"text-align: left;\">F1 Score (Fake News)</td>\n",
       "      <td style=\"text-align: left;\">0.98520490</td>\n",
       "    </tr>\n",
       "    <tr>\n",
       "      <th style=\"font-weight: bold; text-decoration: underline; text-align: left;\">4</th>\n",
       "      <td style=\"text-align: left;\">Precision (True News)</td>\n",
       "      <td style=\"text-align: left;\">0.98090803</td>\n",
       "    </tr>\n",
       "    <tr>\n",
       "      <th style=\"font-weight: bold; text-decoration: underline; text-align: left;\">5</th>\n",
       "      <td style=\"text-align: left;\">Recall (True News)</td>\n",
       "      <td style=\"text-align: left;\">0.98665105</td>\n",
       "    </tr>\n",
       "    <tr>\n",
       "      <th style=\"font-weight: bold; text-decoration: underline; text-align: left;\">6</th>\n",
       "      <td style=\"text-align: left;\">F1 Score (True News)</td>\n",
       "      <td style=\"text-align: left;\">0.98377116</td>\n",
       "    </tr>\n",
       "  </tbody>\n",
       "</table>"
      ],
      "text/plain": [
       "<IPython.core.display.HTML object>"
      ]
     },
     "metadata": {},
     "output_type": "display_data"
    }
   ],
   "source": [
    "# Train a Logistic Regression model\n",
    "LRM = LogisticRegression()\n",
    "LRM.fit(x_train, y_train)\n",
    "\n",
    "# Make predictions\n",
    "y_pred = LRM.predict(x_test)\n",
    "\n",
    "# Calculate accuracy\n",
    "accuracy = accuracy_score(y_test, y_pred)\n",
    "\n",
    "# Calculate precision,recall,F1 Score for fake news\n",
    "precision = precision_score(y_test, y_pred, average='binary', pos_label=1)\n",
    "recall = recall_score(y_test, y_pred, average='binary', pos_label=1)\n",
    "f1 = f1_score(y_test, y_pred, average='binary', pos_label=1)\n",
    "# Calculate precision,recall,F1 Score for True news\n",
    "precision1 = precision_score(y_test, y_pred, average='binary', pos_label=0)\n",
    "recall1 = recall_score(y_test, y_pred, average='binary', pos_label=0)\n",
    "f11 = f1_score(y_test, y_pred, average='binary', pos_label=0)\n",
    "\n",
    "# Create a DataFrame to store the results\n",
    "results_df = pd.DataFrame({\n",
    "    'Metric': ['Accuracy', 'Precision (Fake News)', 'Recall (Fake News)', 'F1 Score (Fake News)',\n",
    "               'Precision (True News)', 'Recall (True News)', 'F1 Score (True News)'],\n",
    "    'Value': [accuracy, precision, recall, f1, precision1, recall1, f11]\n",
    "})\n",
    "\n",
    "# Set the display options for pandas\n",
    "pd.set_option('display.float_format', '{:.8f}'.format)\n",
    "\n",
    "# Define a function to make the headings bold, underlined and left-aligned\n",
    "def pretty_print(df):\n",
    "    return display(HTML(df.to_html().replace('<th>', '<th style=\"font-weight: bold; text-decoration: underline; text-align: left;\">').replace('<td>', '<td style=\"text-align: left;\">')))\n",
    "\n",
    "# Print the results in a tabular format\n",
    "pretty_print(results_df)"
   ]
  },
  {
   "cell_type": "code",
   "execution_count": 12,
   "metadata": {
    "colab": {
     "base_uri": "https://localhost:8080/",
     "height": 472
    },
    "id": "9DJPRSZ_W2my",
    "outputId": "bc377afb-dcb0-48db-9a4f-6a2a934846c1"
   },
   "outputs": [
    {
     "data": {
      "image/png": "[encoded data removed]",
      "text/plain": [
       "<Figure size 640x480 with 1 Axes>"
      ]
     },
     "metadata": {},
     "output_type": "display_data"
    }
   ],
   "source": [
    "fpr = dict()\n",
    "tpr = dict()\n",
    "roc_auc = dict()\n",
    "\n",
    "y_score = LRM.decision_function(x_test)\n",
    "fpr, tpr, _ = roc_curve(y_test, y_score)\n",
    "roc_auc = auc(fpr, tpr)\n",
    "\n",
    "# Plot ROC curve\n",
    "plt.figure()\n",
    "lw = 2\n",
    "plt.plot(fpr, tpr, color='darkorange', lw=lw, label='ROC curve (area = %0.2f)' % roc_auc)\n",
    "plt.plot([0, 1], [0, 1], color='navy', lw=lw, linestyle='--')\n",
    "plt.xlim([0.0, 1.0])\n",
    "plt.ylim([0.0, 1.05])\n",
    "plt.xlabel('False Positive Rate')\n",
    "plt.ylabel('True Positive Rate')\n",
    "plt.title('Receiver Operating Characteristic')\n",
    "plt.legend(loc=\"lower right\")\n",
    "plt.show()"
   ]
  },
  {
   "cell_type": "code",
   "execution_count": 13,
   "metadata": {
    "colab": {
     "base_uri": "https://localhost:8080/",
     "height": 269
    },
    "id": "dMtHEn-8W2my",
    "outputId": "4aa1ed92-8f4e-4000-d82f-1dbc6f721bb3"
   },
   "outputs": [
    {
     "data": {
      "text/html": [
       "<table border=\"1\" class=\"dataframe\">\n",
       "  <thead>\n",
       "    <tr style=\"text-align: right;\">\n",
       "      <th style=\"font-weight: bold; text-decoration: underline; text-align: left;\"></th>\n",
       "      <th style=\"font-weight: bold; text-decoration: underline; text-align: left;\">Metric</th>\n",
       "      <th style=\"font-weight: bold; text-decoration: underline; text-align: left;\">Value</th>\n",
       "    </tr>\n",
       "  </thead>\n",
       "  <tbody>\n",
       "    <tr>\n",
       "      <th style=\"font-weight: bold; text-decoration: underline; text-align: left;\">0</th>\n",
       "      <td style=\"text-align: left;\">Accuracy</td>\n",
       "      <td style=\"text-align: left;\">0.99665924</td>\n",
       "    </tr>\n",
       "    <tr>\n",
       "      <th style=\"font-weight: bold; text-decoration: underline; text-align: left;\">1</th>\n",
       "      <td style=\"text-align: left;\">Precision (Fake News)</td>\n",
       "      <td style=\"text-align: left;\">0.99534293</td>\n",
       "    </tr>\n",
       "    <tr>\n",
       "      <th style=\"font-weight: bold; text-decoration: underline; text-align: left;\">2</th>\n",
       "      <td style=\"text-align: left;\">Recall (Fake News)</td>\n",
       "      <td style=\"text-align: left;\">0.99830149</td>\n",
       "    </tr>\n",
       "    <tr>\n",
       "      <th style=\"font-weight: bold; text-decoration: underline; text-align: left;\">3</th>\n",
       "      <td style=\"text-align: left;\">F1 Score (Fake News)</td>\n",
       "      <td style=\"text-align: left;\">0.99682001</td>\n",
       "    </tr>\n",
       "    <tr>\n",
       "      <th style=\"font-weight: bold; text-decoration: underline; text-align: left;\">4</th>\n",
       "      <td style=\"text-align: left;\">Precision (True News)</td>\n",
       "      <td style=\"text-align: left;\">0.99812030</td>\n",
       "    </tr>\n",
       "    <tr>\n",
       "      <th style=\"font-weight: bold; text-decoration: underline; text-align: left;\">5</th>\n",
       "      <td style=\"text-align: left;\">Recall (True News)</td>\n",
       "      <td style=\"text-align: left;\">0.99484778</td>\n",
       "    </tr>\n",
       "    <tr>\n",
       "      <th style=\"font-weight: bold; text-decoration: underline; text-align: left;\">6</th>\n",
       "      <td style=\"text-align: left;\">F1 Score (True News)</td>\n",
       "      <td style=\"text-align: left;\">0.99648135</td>\n",
       "    </tr>\n",
       "  </tbody>\n",
       "</table>"
      ],
      "text/plain": [
       "<IPython.core.display.HTML object>"
      ]
     },
     "metadata": {},
     "output_type": "display_data"
    }
   ],
   "source": [
    "# Create and train the Decision Tree Classifier\n",
    "DTC = DecisionTreeClassifier()\n",
    "DTC.fit(x_train, y_train)\n",
    "\n",
    "# Make predictions on the test set\n",
    "y_pred = DTC.predict(x_test)\n",
    "\n",
    "# Calculate accuracy\n",
    "accuracy = accuracy_score(y_test, y_pred)\n",
    "\n",
    "# Calculate precision,recall,F1 Score for fake news\n",
    "precision = precision_score(y_test, y_pred, average='binary', pos_label=1)\n",
    "recall = recall_score(y_test, y_pred, average='binary', pos_label=1)\n",
    "f1 = f1_score(y_test, y_pred, average='binary', pos_label=1)\n",
    "\n",
    "# Calculate precision,recall,F1 Score for True news\n",
    "precision1 = precision_score(y_test, y_pred, average='binary', pos_label=0)\n",
    "recall1 = recall_score(y_test, y_pred, average='binary', pos_label=0)\n",
    "f11 = f1_score(y_test, y_pred, average='binary', pos_label=0)\n",
    "\n",
    "# Create a DataFrame to store the results\n",
    "results_df = pd.DataFrame({\n",
    "    'Metric': ['Accuracy', 'Precision (Fake News)', 'Recall (Fake News)', 'F1 Score (Fake News)',\n",
    "               'Precision (True News)', 'Recall (True News)', 'F1 Score (True News)'],\n",
    "    'Value': [accuracy, precision, recall, f1, precision1, recall1, f11]\n",
    "})\n",
    "\n",
    "# Set the display options for pandas\n",
    "pd.set_option('display.float_format', '{:.8f}'.format)\n",
    "\n",
    "# Define a function to make the headings bold, underlined and left-aligned\n",
    "def pretty_print(df):\n",
    "    return display(HTML(df.to_html().replace('<th>', '<th style=\"font-weight: bold; text-decoration: underline; text-align: left;\">').replace('<td>', '<td style=\"text-align: left;\">')))\n",
    "\n",
    "# Print the results in a tabular format\n",
    "pretty_print(results_df)"
   ]
  },
  {
   "cell_type": "code",
   "execution_count": 14,
   "metadata": {
    "colab": {
     "base_uri": "https://localhost:8080/",
     "height": 472
    },
    "id": "BcIeMZL5W2my",
    "outputId": "ddab9fa0-36bd-46b8-aa14-5648587b4244"
   },
   "outputs": [
    {
     "data": {
      "image/png": "[encoded data removed]",
      "text/plain": [
       "<Figure size 640x480 with 1 Axes>"
      ]
     },
     "metadata": {},
     "output_type": "display_data"
    }
   ],
   "source": [
    "fpr = dict()\n",
    "tpr = dict()\n",
    "roc_auc = dict()\n",
    "\n",
    "y_score = DTC.predict_proba(x_test)[:, 1]\n",
    "fpr, tpr, _ = roc_curve(y_test, y_score)\n",
    "roc_auc = auc(fpr, tpr)\n",
    "\n",
    "# Plot ROC curve\n",
    "plt.figure()\n",
    "lw = 2\n",
    "plt.plot(fpr, tpr, color='darkorange', lw=lw, label='ROC curve (area = %0.2f)' % roc_auc)\n",
    "plt.plot([0, 1], [0, 1], color='navy', lw=lw, linestyle='--')\n",
    "plt.xlim([0.0, 1.0])\n",
    "plt.ylim([0.0, 1.05])\n",
    "plt.xlabel('False Positive Rate')\n",
    "plt.ylabel('True Positive Rate')\n",
    "plt.title('Receiver Operating Characteristic')\n",
    "plt.legend(loc=\"lower right\")\n",
    "plt.show()"
   ]
  },
  {
   "cell_type": "code",
   "execution_count": 15,
   "metadata": {
    "colab": {
     "base_uri": "https://localhost:8080/",
     "height": 269
    },
    "id": "ICahoC2qW2my",
    "outputId": "f4cdf0ff-9a49-427c-8d0b-e3f788d211cf"
   },
   "outputs": [
    {
     "data": {
      "text/html": [
       "<table border=\"1\" class=\"dataframe\">\n",
       "  <thead>\n",
       "    <tr style=\"text-align: right;\">\n",
       "      <th style=\"font-weight: bold; text-decoration: underline; text-align: left;\"></th>\n",
       "      <th style=\"font-weight: bold; text-decoration: underline; text-align: left;\">Metric</th>\n",
       "      <th style=\"font-weight: bold; text-decoration: underline; text-align: left;\">Value</th>\n",
       "    </tr>\n",
       "  </thead>\n",
       "  <tbody>\n",
       "    <tr>\n",
       "      <th style=\"font-weight: bold; text-decoration: underline; text-align: left;\">0</th>\n",
       "      <td style=\"text-align: left;\">Accuracy</td>\n",
       "      <td style=\"text-align: left;\">0.98763920</td>\n",
       "    </tr>\n",
       "    <tr>\n",
       "      <th style=\"font-weight: bold; text-decoration: underline; text-align: left;\">1</th>\n",
       "      <td style=\"text-align: left;\">Precision (Fake News)</td>\n",
       "      <td style=\"text-align: left;\">0.98811293</td>\n",
       "    </tr>\n",
       "    <tr>\n",
       "      <th style=\"font-weight: bold; text-decoration: underline; text-align: left;\">2</th>\n",
       "      <td style=\"text-align: left;\">Recall (Fake News)</td>\n",
       "      <td style=\"text-align: left;\">0.98832272</td>\n",
       "    </tr>\n",
       "    <tr>\n",
       "      <th style=\"font-weight: bold; text-decoration: underline; text-align: left;\">3</th>\n",
       "      <td style=\"text-align: left;\">F1 Score (Fake News)</td>\n",
       "      <td style=\"text-align: left;\">0.98821781</td>\n",
       "    </tr>\n",
       "    <tr>\n",
       "      <th style=\"font-weight: bold; text-decoration: underline; text-align: left;\">4</th>\n",
       "      <td style=\"text-align: left;\">Precision (True News)</td>\n",
       "      <td style=\"text-align: left;\">0.98711642</td>\n",
       "    </tr>\n",
       "    <tr>\n",
       "      <th style=\"font-weight: bold; text-decoration: underline; text-align: left;\">5</th>\n",
       "      <td style=\"text-align: left;\">Recall (True News)</td>\n",
       "      <td style=\"text-align: left;\">0.98688525</td>\n",
       "    </tr>\n",
       "    <tr>\n",
       "      <th style=\"font-weight: bold; text-decoration: underline; text-align: left;\">6</th>\n",
       "      <td style=\"text-align: left;\">F1 Score (True News)</td>\n",
       "      <td style=\"text-align: left;\">0.98700082</td>\n",
       "    </tr>\n",
       "  </tbody>\n",
       "</table>"
      ],
      "text/plain": [
       "<IPython.core.display.HTML object>"
      ]
     },
     "metadata": {},
     "output_type": "display_data"
    }
   ],
   "source": [
    "# Create and train the Random Forest Classifier\n",
    "RFC = RandomForestClassifier()\n",
    "RFC.fit(x_train, y_train)\n",
    "\n",
    "# Make predictions on the test set\n",
    "y_pred = RFC.predict(x_test)\n",
    "\n",
    "# Calculate accuracy\n",
    "accuracy = accuracy_score(y_test, y_pred)\n",
    "\n",
    "# Calculate precision,recall,F1 Score for fake news\n",
    "precision = precision_score(y_test, y_pred, average='binary', pos_label=1)\n",
    "recall = recall_score(y_test, y_pred, average='binary', pos_label=1)\n",
    "f1 = f1_score(y_test, y_pred, average='binary', pos_label=1)\n",
    "\n",
    "# Calculate precision,recall,F1 Score for True news\n",
    "precision1 = precision_score(y_test, y_pred, average='binary', pos_label=0)\n",
    "recall1 = recall_score(y_test, y_pred, average='binary', pos_label=0)\n",
    "f11 = f1_score(y_test, y_pred, average='binary', pos_label=0)\n",
    "\n",
    "# Create a DataFrame to store the results\n",
    "results_df = pd.DataFrame({\n",
    "    'Metric': ['Accuracy', 'Precision (Fake News)', 'Recall (Fake News)', 'F1 Score (Fake News)',\n",
    "               'Precision (True News)', 'Recall (True News)', 'F1 Score (True News)'],\n",
    "    'Value': [accuracy, precision, recall, f1, precision1, recall1, f11]\n",
    "})\n",
    "\n",
    "# Set the display options for pandas\n",
    "pd.set_option('display.float_format', '{:.8f}'.format)\n",
    "\n",
    "# Define a function to make the headings bold, underlined and left-aligned\n",
    "def pretty_print(df):\n",
    "    return display(HTML(df.to_html().replace('<th>', '<th style=\\\"font-weight: bold; text-decoration: underline; text-align: left;\\\">').replace('<td>', '<td style=\\\"text-align: left;\\\">')))\n",
    "\n",
    "# Print the results in a tabular format\n",
    "pretty_print(results_df)"
   ]
  },
  {
   "cell_type": "code",
   "execution_count": 16,
   "metadata": {
    "colab": {
     "base_uri": "https://localhost:8080/",
     "height": 472
    },
    "id": "mmZhlxsxW2my",
    "outputId": "86e8031b-bf3a-42f5-b369-02c9456887ec"
   },
   "outputs": [
    {
     "data": {
      "image/png": "[encoded data removed]",
      "text/plain": [
       "<Figure size 640x480 with 1 Axes>"
      ]
     },
     "metadata": {},
     "output_type": "display_data"
    }
   ],
   "source": [
    "fpr = dict()\n",
    "tpr = dict()\n",
    "roc_auc = dict()\n",
    "\n",
    "y_score = RFC.predict_proba(x_test)[:, 1]\n",
    "fpr, tpr, _ = roc_curve(y_test, y_score)\n",
    "roc_auc = auc(fpr, tpr)\n",
    "\n",
    "# Plot ROC curve\n",
    "plt.figure()\n",
    "lw = 2\n",
    "plt.plot(fpr, tpr, color='darkorange', lw=lw, label='ROC curve (area = %0.2f)' % roc_auc)\n",
    "plt.plot([0, 1], [0, 1], color='navy', lw=lw, linestyle='--')\n",
    "plt.xlim([0.0, 1.0])\n",
    "plt.ylim([0.0, 1.05])\n",
    "plt.xlabel('False Positive Rate')\n",
    "plt.ylabel('True Positive Rate')\n",
    "plt.title('Receiver Operating Characteristic')\n",
    "plt.legend(loc=\"lower right\")\n",
    "plt.show()"
   ]
  },
  {
   "cell_type": "code",
   "execution_count": 17,
   "metadata": {
    "colab": {
     "base_uri": "https://localhost:8080/",
     "height": 269
    },
    "id": "kt1m7dq1hmTJ",
    "outputId": "5e8c0c26-73c6-4dc7-a4f8-c7eeabebf4da"
   },
   "outputs": [
    {
     "data": {
      "text/html": [
       "<table border=\"1\" class=\"dataframe\">\n",
       "  <thead>\n",
       "    <tr style=\"text-align: right;\">\n",
       "      <th style=\"font-weight: bold; text-decoration: underline; text-align: left;\"></th>\n",
       "      <th style=\"font-weight: bold; text-decoration: underline; text-align: left;\">Metric</th>\n",
       "      <th style=\"font-weight: bold; text-decoration: underline; text-align: left;\">Value</th>\n",
       "    </tr>\n",
       "  </thead>\n",
       "  <tbody>\n",
       "    <tr>\n",
       "      <th style=\"font-weight: bold; text-decoration: underline; text-align: left;\">0</th>\n",
       "      <td style=\"text-align: left;\">Accuracy</td>\n",
       "      <td style=\"text-align: left;\">0.93541203</td>\n",
       "    </tr>\n",
       "    <tr>\n",
       "      <th style=\"font-weight: bold; text-decoration: underline; text-align: left;\">1</th>\n",
       "      <td style=\"text-align: left;\">Precision (Fake News)</td>\n",
       "      <td style=\"text-align: left;\">0.93309564</td>\n",
       "    </tr>\n",
       "    <tr>\n",
       "      <th style=\"font-weight: bold; text-decoration: underline; text-align: left;\">2</th>\n",
       "      <td style=\"text-align: left;\">Recall (Fake News)</td>\n",
       "      <td style=\"text-align: left;\">0.94458599</td>\n",
       "    </tr>\n",
       "    <tr>\n",
       "      <th style=\"font-weight: bold; text-decoration: underline; text-align: left;\">3</th>\n",
       "      <td style=\"text-align: left;\">F1 Score (Fake News)</td>\n",
       "      <td style=\"text-align: left;\">0.93880566</td>\n",
       "    </tr>\n",
       "    <tr>\n",
       "      <th style=\"font-weight: bold; text-decoration: underline; text-align: left;\">4</th>\n",
       "      <td style=\"text-align: left;\">Precision (True News)</td>\n",
       "      <td style=\"text-align: left;\">0.93803419</td>\n",
       "    </tr>\n",
       "    <tr>\n",
       "      <th style=\"font-weight: bold; text-decoration: underline; text-align: left;\">5</th>\n",
       "      <td style=\"text-align: left;\">Recall (True News)</td>\n",
       "      <td style=\"text-align: left;\">0.92529274</td>\n",
       "    </tr>\n",
       "    <tr>\n",
       "      <th style=\"font-weight: bold; text-decoration: underline; text-align: left;\">6</th>\n",
       "      <td style=\"text-align: left;\">F1 Score (True News)</td>\n",
       "      <td style=\"text-align: left;\">0.93161990</td>\n",
       "    </tr>\n",
       "  </tbody>\n",
       "</table>"
      ],
      "text/plain": [
       "<IPython.core.display.HTML object>"
      ]
     },
     "metadata": {},
     "output_type": "display_data"
    }
   ],
   "source": [
    "# Create and train the Naive Bayes classifier\n",
    "NB = MultinomialNB()\n",
    "NB.fit(x_train, y_train)\n",
    "\n",
    "# Make predictions on the test set\n",
    "y_pred = NB.predict(x_test)\n",
    "\n",
    "# Calculate accuracy\n",
    "accuracy = accuracy_score(y_test, y_pred)\n",
    "\n",
    "# Calculate precision,recall,F1 Score for fake news\n",
    "precision = precision_score(y_test, y_pred, average='binary', pos_label=1)\n",
    "recall = recall_score(y_test, y_pred, average='binary', pos_label=1)\n",
    "f1 = f1_score(y_test, y_pred, average='binary', pos_label=1)\n",
    "\n",
    "# Calculate precision,recall,F1 Score for True news\n",
    "precision1 = precision_score(y_test, y_pred, average='binary', pos_label=0)\n",
    "recall1 = recall_score(y_test, y_pred, average='binary', pos_label=0)\n",
    "f11 = f1_score(y_test, y_pred, average='binary', pos_label=0)\n",
    "\n",
    "# Create a DataFrame to store the results\n",
    "results_df = pd.DataFrame({\n",
    "    'Metric': ['Accuracy', 'Precision (Fake News)', 'Recall (Fake News)', 'F1 Score (Fake News)',\n",
    "               'Precision (True News)', 'Recall (True News)', 'F1 Score (True News)'],\n",
    "    'Value': [accuracy, precision, recall, f1, precision1, recall1, f11]\n",
    "})\n",
    "\n",
    "# Set the display options for pandas\n",
    "pd.set_option('display.float_format', '{:.8f}'.format)\n",
    "\n",
    "# Define a function to make the headings bold, underlined and left-aligned\n",
    "def pretty_print(df):\n",
    "    return display(HTML(df.to_html().replace('<th>', '<th style=\\\"font-weight: bold; text-decoration: underline; text-align: left;\\\">').replace('<td>', '<td style=\\\"text-align: left;\\\">')))\n",
    "\n",
    "# Print the results in a tabular format\n",
    "pretty_print(results_df)\n"
   ]
  },
  {
   "cell_type": "code",
   "execution_count": 18,
   "metadata": {
    "colab": {
     "base_uri": "https://localhost:8080/",
     "height": 472
    },
    "id": "k8D1wIb7lMYt",
    "outputId": "99f9a72c-4476-4273-86c7-e3f9e117283f"
   },
   "outputs": [
    {
     "data": {
      "image/png": "[encoded data removed]",
      "text/plain": [
       "<Figure size 640x480 with 1 Axes>"
      ]
     },
     "metadata": {},
     "output_type": "display_data"
    }
   ],
   "source": [
    "# Calculate the probabilities using the Naive Bayes classifier\n",
    "y_score = NB.predict_proba(x_test)[:, 1]\n",
    "\n",
    "# Compute ROC curve and ROC area\n",
    "fpr, tpr, _ = roc_curve(y_test, y_score)\n",
    "roc_auc = auc(fpr, tpr)\n",
    "\n",
    "# Plot ROC curve\n",
    "plt.figure()\n",
    "lw = 2\n",
    "plt.plot(fpr, tpr, color='darkorange', lw=lw, label='ROC curve (area = %0.2f)' % roc_auc)\n",
    "plt.plot([0, 1], [0, 1], color='navy', lw=lw, linestyle='--')\n",
    "plt.xlim([0.0, 1.0])\n",
    "plt.ylim([0.0, 1.05])\n",
    "plt.xlabel('False Positive Rate')\n",
    "plt.ylabel('True Positive Rate')\n",
    "plt.title('Receiver Operating Characteristic')\n",
    "plt.legend(loc=\"lower right\")\n",
    "plt.show()\n"
   ]
  },
  {
   "cell_type": "code",
   "execution_count": 19,
   "metadata": {
    "colab": {
     "base_uri": "https://localhost:8080/",
     "height": 269
    },
    "id": "xaOCoVkvlwXj",
    "outputId": "78fcebe9-6b30-4bb9-adc3-f5f5b9472087"
   },
   "outputs": [
    {
     "data": {
      "text/html": [
       "<table border=\"1\" class=\"dataframe\">\n",
       "  <thead>\n",
       "    <tr style=\"text-align: right;\">\n",
       "      <th style=\"font-weight: bold; text-decoration: underline; text-align: left;\"></th>\n",
       "      <th style=\"font-weight: bold; text-decoration: underline; text-align: left;\">Metric</th>\n",
       "      <th style=\"font-weight: bold; text-decoration: underline; text-align: left;\">Value</th>\n",
       "    </tr>\n",
       "  </thead>\n",
       "  <tbody>\n",
       "    <tr>\n",
       "      <th style=\"font-weight: bold; text-decoration: underline; text-align: left;\">0</th>\n",
       "      <td style=\"text-align: left;\">Accuracy</td>\n",
       "      <td style=\"text-align: left;\">0.99320713</td>\n",
       "    </tr>\n",
       "    <tr>\n",
       "      <th style=\"font-weight: bold; text-decoration: underline; text-align: left;\">1</th>\n",
       "      <td style=\"text-align: left;\">Precision (Fake News)</td>\n",
       "      <td style=\"text-align: left;\">0.99404888</td>\n",
       "    </tr>\n",
       "    <tr>\n",
       "      <th style=\"font-weight: bold; text-decoration: underline; text-align: left;\">2</th>\n",
       "      <td style=\"text-align: left;\">Recall (Fake News)</td>\n",
       "      <td style=\"text-align: left;\">0.99299363</td>\n",
       "    </tr>\n",
       "    <tr>\n",
       "      <th style=\"font-weight: bold; text-decoration: underline; text-align: left;\">3</th>\n",
       "      <td style=\"text-align: left;\">F1 Score (Fake News)</td>\n",
       "      <td style=\"text-align: left;\">0.99352098</td>\n",
       "    </tr>\n",
       "    <tr>\n",
       "      <th style=\"font-weight: bold; text-decoration: underline; text-align: left;\">4</th>\n",
       "      <td style=\"text-align: left;\">Precision (True News)</td>\n",
       "      <td style=\"text-align: left;\">0.99228070</td>\n",
       "    </tr>\n",
       "    <tr>\n",
       "      <th style=\"font-weight: bold; text-decoration: underline; text-align: left;\">5</th>\n",
       "      <td style=\"text-align: left;\">Recall (True News)</td>\n",
       "      <td style=\"text-align: left;\">0.99344262</td>\n",
       "    </tr>\n",
       "    <tr>\n",
       "      <th style=\"font-weight: bold; text-decoration: underline; text-align: left;\">6</th>\n",
       "      <td style=\"text-align: left;\">F1 Score (True News)</td>\n",
       "      <td style=\"text-align: left;\">0.99286132</td>\n",
       "    </tr>\n",
       "  </tbody>\n",
       "</table>"
      ],
      "text/plain": [
       "<IPython.core.display.HTML object>"
      ]
     },
     "metadata": {},
     "output_type": "display_data"
    }
   ],
   "source": [
    "# Create and train the LinearSVC\n",
    "SVM = LinearSVC(dual=False)\n",
    "SVM.fit(x_train, y_train)\n",
    "\n",
    "# Make predictions on the test set\n",
    "y_pred = SVM.predict(x_test)\n",
    "\n",
    "# Calculate accuracy\n",
    "accuracy = accuracy_score(y_test, y_pred)\n",
    "\n",
    "# Calculate precision,recall,F1 Score for fake news\n",
    "precision = precision_score(y_test, y_pred, average='binary', pos_label=1)\n",
    "recall = recall_score(y_test, y_pred, average='binary', pos_label=1)\n",
    "f1 = f1_score(y_test, y_pred, average='binary', pos_label=1)\n",
    "\n",
    "# Calculate precision,recall,F1 Score for True news\n",
    "precision1 = precision_score(y_test, y_pred, average='binary', pos_label=0)\n",
    "recall1 = recall_score(y_test, y_pred, average='binary', pos_label=0)\n",
    "f11 = f1_score(y_test, y_pred, average='binary', pos_label=0)\n",
    "\n",
    "# Create a DataFrame to store the results\n",
    "results_df = pd.DataFrame({\n",
    "    'Metric': ['Accuracy', 'Precision (Fake News)', 'Recall (Fake News)', 'F1 Score (Fake News)',\n",
    "               'Precision (True News)', 'Recall (True News)', 'F1 Score (True News)'],\n",
    "    'Value': [accuracy, precision, recall, f1, precision1, recall1, f11]\n",
    "})\n",
    "\n",
    "# Set the display options for pandas\n",
    "pd.set_option('display.float_format', '{:.8f}'.format)\n",
    "\n",
    "# Define a function to make the headings bold, underlined and left-aligned\n",
    "def pretty_print(df):\n",
    "    return display(HTML(df.to_html().replace('<th>', '<th style=\\\"font-weight: bold; text-decoration: underline; text-align: left;\\\">').replace('<td>', '<td style=\\\"text-align: left;\\\">')))\n",
    "\n",
    "# Print the results in a tabular format\n",
    "pretty_print(results_df)\n"
   ]
  },
  {
   "cell_type": "code",
   "execution_count": 20,
   "metadata": {
    "colab": {
     "base_uri": "https://localhost:8080/",
     "height": 472
    },
    "id": "Vi4iU9hnqgrk",
    "outputId": "c25f7586-7e27-474a-be06-dacc3b20ef10"
   },
   "outputs": [
    {
     "data": {
      "image/png": "[encoded data removed]",
      "text/plain": [
       "<Figure size 640x480 with 1 Axes>"
      ]
     },
     "metadata": {},
     "output_type": "display_data"
    }
   ],
   "source": [
    "# Calculate the probabilities using the SVM classifier\n",
    "y_score = SVM.decision_function(x_test)\n",
    "\n",
    "# Compute ROC curve and ROC area\n",
    "fpr, tpr, _ = roc_curve(y_test, y_score)\n",
    "roc_auc = auc(fpr, tpr)\n",
    "\n",
    "# Plot ROC curve\n",
    "plt.figure()\n",
    "lw = 2\n",
    "plt.plot(fpr, tpr, color='darkorange', lw=lw, label='ROC curve (area = %0.2f)' % roc_auc)\n",
    "plt.plot([0, 1], [0, 1], color='navy', lw=lw, linestyle='--')\n",
    "plt.xlim([0.0, 1.0])\n",
    "plt.ylim([0.0, 1.05])\n",
    "plt.xlabel('False Positive Rate')\n",
    "plt.ylabel('True Positive Rate')\n",
    "plt.title('Receiver Operating Characteristic')\n",
    "plt.legend(loc=\"lower right\")\n",
    "plt.show()"
   ]
  },
  {
   "cell_type": "code",
   "execution_count": 21,
   "metadata": {
    "id": "LDWpHTam_WwM"
   },
   "outputs": [],
   "source": [
    "# Function to predict if a news article is fake or not\n",
    "def predict_fake_news_LRM(news_article):\n",
    "    # Preprocess the text\n",
    "    news_article = news_article.lower().replace('\\W', ' ')\n",
    "\n",
    "    # Vectorize the text\n",
    "    news_article_vectorized = vectorizer.transform([news_article])\n",
    "\n",
    "    # Make a prediction\n",
    "    prediction = LRM.predict(news_article_vectorized)\n",
    "\n",
    "    # Return the prediction\n",
    "    return \"Fake\" if prediction[0] == 1 else \"Real\""
   ]
  },
  {
   "cell_type": "code",
   "execution_count": 22,
   "metadata": {
    "id": "yD6_rqpvW2my"
   },
   "outputs": [],
   "source": [
    "# Function to predict if a news article is fake or not\n",
    "def predict_fake_news_DTC(news_article):\n",
    "    # Preprocess the text\n",
    "    news_article = news_article.lower().replace('\\W', ' ')\n",
    "\n",
    "    # Vectorize the text\n",
    "    news_article_vectorized = vectorizer.transform([news_article])\n",
    "\n",
    "    # Make a prediction\n",
    "    prediction = DTC.predict(news_article_vectorized)\n",
    "\n",
    "    # Return the prediction\n",
    "    return \"Fake\" if prediction[0] == 1 else \"Real\""
   ]
  },
  {
   "cell_type": "code",
   "execution_count": 23,
   "metadata": {
    "id": "LFqKOMfZW2my"
   },
   "outputs": [],
   "source": [
    "# Function to predict if a news article is fake or not\n",
    "def predict_fake_news_RFC(news_article):\n",
    "    # Preprocess the text\n",
    "    news_article = news_article.lower().replace('\\W', ' ')\n",
    "\n",
    "    # Vectorize the text\n",
    "    news_article_vectorized = vectorizer.transform([news_article])\n",
    "\n",
    "    # Make a prediction\n",
    "    prediction = RFC.predict(news_article_vectorized)\n",
    "\n",
    "    # Return the prediction\n",
    "    return \"Fake\" if prediction[0] == 1 else \"Real\""
   ]
  },
  {
   "cell_type": "code",
   "execution_count": 24,
   "metadata": {
    "id": "wyf0MczeW2mz"
   },
   "outputs": [],
   "source": [
    "# Function to predict if a news article is fake or not\n",
    "def predict_fake_news_SVM(news_article):\n",
    "    # Preprocess the text\n",
    "    news_article = news_article.lower().replace('\\W', ' ')\n",
    "\n",
    "    # Vectorize the text\n",
    "    news_article_vectorized = vectorizer.transform([news_article])\n",
    "\n",
    "    # Make a prediction\n",
    "    prediction = SVM.predict(news_article_vectorized)\n",
    "\n",
    "    # Return the prediction\n",
    "    return \"Fake\" if prediction[0] == 1 else \"Real\""
   ]
  },
  {
   "cell_type": "code",
   "execution_count": 25,
   "metadata": {},
   "outputs": [],
   "source": [
    "# Function to predict if a news article is fake or not\n",
    "def predict_fake_news_NBC(news_article):\n",
    "    # Preprocess the text\n",
    "    news_article = news_article.lower().replace('\\W', ' ')\n",
    "\n",
    "    # Vectorize the text\n",
    "    news_article_vectorized = vectorizer.transform([news_article])\n",
    "\n",
    "    # Make a prediction\n",
    "    prediction = NB.predict(news_article_vectorized)\n",
    "\n",
    "    # Return the prediction\n",
    "    return \"Fake\" if prediction[0] == 1 else \"Real\""
   ]
  },
  {
   "cell_type": "markdown",
   "metadata": {},
   "source": [
    "1>**Fake news:** Vic Bishop Waking TimesOur reality is carefully constructed by powerful corporate, political and special interest sources in order to covertly sway public opinion. Blatant lies are often televised regarding terrorism, food, war, health, etc. They are fashioned to sway public opinion and condition viewers to accept what have become destructive societal norms.The practice of manipulating and controlling public opinion with distorted media messages has become so common that there is a whole industry formed around this. The entire role of this brainwashing industry is to figure out how to spin information to journalists, similar to the lobbying of government. It is never really clear just how much truth the journalists receive because the news industry has become complacent. The messages that it presents are shaped by corporate powers who often spend millions on advertising with the six conglomerates that own 90% of the media:General Electric (GE), News-Corp, Disney, Viacom, Time Warner, and CBS. Yet, these corporations function under many different brands, such as FOX, ABC, CNN, Comcast, Wall Street Journal, etc, giving people the perception of choice   As Tavistock s researchers showed, it was important that the victims of mass brainwashing not be aware that their environment was being controlled; there should thus be a vast number of sources for information, whose messages could be varied slightly, so as to mask the sense of external control. ~ Specialist of mass brainwashing, L. WolfeNew Brainwashing Tactic Called AstroturfWith alternative media on the rise, the propaganda machine continues to expand. Below is a video of Sharyl Attkisson, investigative reporter with CBS, during which she explains how  astroturf,  or fake grassroots movements, are used to spin information not only to influence journalists but to sway public opinion. Astroturf is a perversion of grassroots. Astroturf is when political, corporate or other special interests disguise themselves and publish blogs, start facebook and twitter accounts, publish ads, letters to the editor, or simply post comments online, to try to fool you into thinking an independent or grassroots movement is speaking. ~ Sharyl Attkisson, Investigative ReporterHow do you separate fact from fiction? Sharyl Attkisson finishes her talk with some insights on how to identify signs of propaganda and astroturfing  These methods are used to give people the impression that there is widespread support for an agenda, when, in reality, one may not exist. Astroturf tactics are also used to discredit or criticize those that disagree with certain agendas, using stereotypical names such as conspiracy theorist or quack. When in fact when someone dares to reveal the truth or questions the  official  story, it should spark a deeper curiosity and encourage further scrutiny of the information.This article (Journalist Reveals Tactics Brainwashing Industry Uses to Manipulate the Public) was originally created and published by Waking Times and is published here under a Creative Commons license with attribution to Vic Bishop and WakingTimes.com. It may be re-posted freely with proper attribution, author bio, and this copyright statement.\n",
    "\n",
    "2>**Real News:** SAO PAULO (Reuters) - Cesar Mata Pires, the owner and co-founder of Brazilian engineering conglomerate OAS SA, one of the largest companies involved in Brazil s corruption scandal, died on Tuesday. He was 68. Mata Pires died of a heart attack while taking a morning walk in an upscale district of S o Paulo, where OAS is based, a person with direct knowledge of the matter said. Efforts to contact his family were unsuccessful. OAS declined to comment. The son of a wealthy cattle rancher in the northeastern state of Bahia, Mata Pires  links to politicians were central to the expansion of OAS, which became Brazil s No. 4 builder earlier this decade, people familiar with his career told Reuters last year. His big break came when he befriended Antonio Carlos Magalh es, a popular politician who was Bahia governor several times, and eventually married his daughter Tereza. Brazilians joked that OAS stood for  Obras Arranjadas pelo Sogro  - or  Work Arranged by the Father-In-Law.   After years of steady growth triggered by a flurry of massive government contracts, OAS was ensnared in Operation Car Wash which unearthed an illegal contracting ring between state firms and builders. The ensuing scandal helped topple former Brazilian President Dilma Rousseff last year. Trained as an engineer, Mata Pires founded OAS with two colleagues in 1976 to do sub-contracting work for larger rival Odebrecht SA - the biggest of the builders involved in the probe.  Before the scandal, Forbes magazine estimated Mata Pires  fortune at $1.6 billion. He dropped off the magazine s billionaire list in 2015, months after OAS sought bankruptcy protection after the Car Wash scandal. While Mata Pires was never accused of wrongdoing in the investigations, creditors demanded he and his family stay away from the builder s day-to-day operations, people directly involved in the negotiations told Reuters at the time. He is survived by his wife and his two sons.\n",
    "\n",
    "**EXTRACTED FROM DATASET**"
   ]
  },
  {
   "cell_type": "code",
   "execution_count": 27,
   "metadata": {
    "colab": {
     "base_uri": "https://localhost:8080/"
    },
    "id": "trArDz9l_-2n",
    "outputId": "92c39736-6898-415d-862f-ad72664b9197"
   },
   "outputs": [
    {
     "name": "stdout",
     "output_type": "stream",
     "text": [
      "Fake\n",
      "Fake\n",
      "Fake\n",
      "Fake\n",
      "Fake\n",
      "Real\n",
      "Real\n",
      "Real\n",
      "Real\n",
      "Real\n"
     ]
    }
   ],
   "source": [
    "# Test the function\n",
    "news_article = \"Vic Bishop Waking Times Our reality is carefully constructed by powerful corporate, political and special interest sources in order to covertly sway public opinion. Blatant lies are often televised regarding terrorism, food, war, health, etc. They are fashioned to sway public opinion and condition viewers to accept what have become destructive societal norms.\"\n",
    "print(predict_fake_news_LRM(news_article))\n",
    "print(predict_fake_news_DTC(news_article))\n",
    "print(predict_fake_news_RFC(news_article))\n",
    "print(predict_fake_news_SVM(news_article))\n",
    "print(predict_fake_news_NBC(news_article))\n",
    "# Test the function\n",
    "news_article = \"SAO PAULO (Reuters) - Cesar Mata Pires, the owner and co-founder of Brazilian engineering conglomerate OAS SA, one of the largest companies involved in Brazil s corruption scandal, died on Tuesday. He was 68. Mata Pires died of a heart attack while taking a morning walk in an upscale district of S o Paulo, where OAS is based, a person with direct knowledge of the matter said. Efforts to contact his family were unsuccessful.\"\n",
    "print(predict_fake_news_LRM(news_article))\n",
    "print(predict_fake_news_DTC(news_article))\n",
    "print(predict_fake_news_RFC(news_article))\n",
    "print(predict_fake_news_SVM(news_article))\n",
    "print(predict_fake_news_NBC(news_article))\n"
   ]
  },
  {
   "cell_type": "markdown",
   "metadata": {},
   "source": [
    "**Hence we can see that using Logistic Regression Model, Decision Tree Classifier, Random Forest Classifier, Support Vector Machine, Naive Bayes Classifier we have predicted the piece of news artical and each model has predicted it as a fake so we can consider it that all the models have performed well.**"
   ]
  },
  {
   "cell_type": "markdown",
   "metadata": {},
   "source": [
    "**Decision Tree Classifier has the highest accuracy of 99.66%, Followed by Support Vector Machine which has accuracy of 99.32%,  Random Forest Classifier has accuracy of 98.70%, Logistic Regression Model has accuracy of 98.45%, Naive Bayes Classifier has accuracy of 93.54%**"
   ]
  }
 ],
 "metadata": {
  "colab": {
   "provenance": []
  },
  "kernelspec": {
   "display_name": "Python 3 (ipykernel)",
   "language": "python",
   "name": "python3"
  },
  "language_info": {
   "codemirror_mode": {
    "name": "ipython",
    "version": 3
   },
   "file_extension": ".py",
   "mimetype": "text/x-python",
   "name": "python",
   "nbconvert_exporter": "python",
   "pygments_lexer": "ipython3",
   "version": "3.11.4"
  }
 },
 "nbformat": 4,
 "nbformat_minor": 4
}
